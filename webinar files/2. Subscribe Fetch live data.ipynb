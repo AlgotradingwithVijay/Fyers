{
 "cells": [
  {
   "cell_type": "code",
   "execution_count": 4,
   "id": "7a4c923b",
   "metadata": {},
   "outputs": [
    {
     "name": "stdout",
     "output_type": "stream",
     "text": [
      "Response: {'type': 'cn', 'code': 200, 'message': 'Authentication done', 's': 'ok'}\n",
      "Response: {'type': 'ful', 'code': 200, 'message': 'Full Mode On', 's': 'ok'}\n",
      "Response: {'type': 'sub', 'code': 200, 'message': 'Subscribed', 's': 'ok'}\n",
      "Response: {'ltp': 612.75, 'vol_traded_today': 22684904, 'last_traded_time': 1706178405, 'exch_feed_time': 1706179230, 'bid_size': 224385, 'ask_size': 0, 'bid_price': 612.75, 'ask_price': 0.0, 'last_traded_qty': 237, 'tot_buy_qty': 224385, 'tot_sell_qty': 0, 'avg_trade_price': 612.47, 'low_price': 606.25, 'high_price': 623.8, 'lower_ckt': 0, 'upper_ckt': 0, 'open_price': 618.5, 'prev_close_price': 618.3, 'type': 'sf', 'symbol': 'NSE:SBIN-EQ', 'ch': -5.55, 'chp': -0.8976}\n"
     ]
    }
   ],
   "source": [
    "from fyers_apiv3.FyersWebsocket import data_ws\n",
    "from fyers_apiv3 import fyersModel\n",
    "from datetime import datetime, timedelta\n",
    "\n",
    "app_id = open(\"fyers_appid.txt\", 'r').read()\n",
    "access_token = open(\"fyers_token.txt\", 'r').read()\n",
    "\n",
    "def onmessage(message):\n",
    "    \"\"\"\n",
    "    Callback function to handle incoming messages from the FyersDataSocket WebSocket.\n",
    "\n",
    "    Parameters:\n",
    "        message (dict): The received message from the WebSocket.\n",
    "\n",
    "    \"\"\"\n",
    "    print(\"Response:\", message)\n",
    "\n",
    "\n",
    "def onerror(message):\n",
    "    \"\"\"\n",
    "    Callback function to handle WebSocket errors.\n",
    "\n",
    "    Parameters:\n",
    "        message (dict): The error message received from the WebSocket.\n",
    "\n",
    "\n",
    "    \"\"\"\n",
    "    print(\"Error:\", message)\n",
    "\n",
    "\n",
    "def onclose(message):\n",
    "    \"\"\"\n",
    "    Callback function to handle WebSocket connection close events.\n",
    "    \"\"\"\n",
    "    print(\"Connection closed:\", message)\n",
    "\n",
    "\n",
    "def onopen():\n",
    "    \"\"\"\n",
    "    Callback function to subscribe to data type and symbols upon WebSocket connection.\n",
    "\n",
    "    \"\"\"\n",
    "    # Specify the data type and symbols you want to subscribe to\n",
    "    data_type = \"SymbolUpdate\"\n",
    "\n",
    "    # Subscribe to the specified symbols and data type\n",
    "    symbols = ['NSE:SBIN-EQ']  #['NSE:SBIN-EQ', 'MCX:SILVERMIC24FEBFUT']\n",
    "    fyers.subscribe(symbols=symbols, data_type=data_type)\n",
    "\n",
    "    # Keep the socket running to receive real-time data\n",
    "    fyers.keep_running()\n",
    "\n",
    "\n",
    "# Replace the sample access token with your actual access token obtained from Fyers\n",
    "access_token = app_id+\":\"+access_token\n",
    "\n",
    "# Create a FyersDataSocket instance with the provided parameters\n",
    "fyers = data_ws.FyersDataSocket(\n",
    "    access_token=access_token,       # Access token in the format \"appid:accesstoken\"\n",
    "    log_path=\"\",                     # Path to save logs. Leave empty to auto-create logs in the current directory.\n",
    "    litemode=False,                  # Lite mode disabled. Set to True if you want a lite response.\n",
    "    write_to_file=True,              # Save response in a log file instead of printing it.\n",
    "    reconnect=True,                  # Enable auto-reconnection to WebSocket on disconnection.\n",
    "    on_connect=onopen,               # Callback function to subscribe to data upon connection.\n",
    "    on_close=onclose,                # Callback function to handle WebSocket connection close events.\n",
    "    on_error=onerror,                # Callback function to handle WebSocket errors.\n",
    "    on_message=onmessage             # Callback function to handle incoming messages from the WebSocket.\n",
    ")\n",
    "\n",
    "# Establish a connection to the Fyers WebSocket\n",
    "fyers.connect()"
   ]
  },
  {
   "cell_type": "code",
   "execution_count": null,
   "id": "4e5ecebf",
   "metadata": {},
   "outputs": [],
   "source": []
  }
 ],
 "metadata": {
  "kernelspec": {
   "display_name": "Python 3 (ipykernel)",
   "language": "python",
   "name": "python3"
  },
  "language_info": {
   "codemirror_mode": {
    "name": "ipython",
    "version": 3
   },
   "file_extension": ".py",
   "mimetype": "text/x-python",
   "name": "python",
   "nbconvert_exporter": "python",
   "pygments_lexer": "ipython3",
   "version": "3.11.4"
  }
 },
 "nbformat": 4,
 "nbformat_minor": 5
}
