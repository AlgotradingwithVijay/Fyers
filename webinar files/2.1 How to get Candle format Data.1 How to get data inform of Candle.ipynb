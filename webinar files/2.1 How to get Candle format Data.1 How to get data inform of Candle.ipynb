{
 "cells": [
  {
   "cell_type": "code",
   "execution_count": 1,
   "id": "a2d81d5e",
   "metadata": {},
   "outputs": [
    {
     "name": "stdout",
     "output_type": "stream",
     "text": [
      "{'candles': [[1705968000, 627, 634.9, 600.65, 605.1, 30954343], [1706054400, 609.95, 622.35, 603.1, 618.3, 19221835], [1706140800, 618.5, 623.8, 606.25, 612.75, 22684904]], 'code': 200, 'message': '', 's': 'ok'}\n"
     ]
    }
   ],
   "source": [
    "from fyers_apiv3 import fyersModel\n",
    "from datetime import datetime, timedelta\n",
    "\n",
    "app_id = open(\"fyers_appid.txt\", 'r').read()\n",
    "access_token = open(\"fyers_token.txt\", 'r').read()\n",
    "\n",
    "# Replace the following variables with your own values\n",
    "symbol = \"NSE:SBIN-EQ\"\n",
    "interval = \"1D\"\n",
    "start_date = int((datetime.now() - timedelta(days=4)).timestamp())  # Convert start_date to epoch timestamp\n",
    "to_date = int((datetime.now() - timedelta(days=1)).timestamp())  # Convert to_date to epoch timestamp\n",
    "\n",
    "# Initialize the fyersModel instance\n",
    "fyers = fyersModel.FyersModel(client_id=app_id, token=access_token)\n",
    "\n",
    "data = {\n",
    "    \"symbol\": symbol,\n",
    "    \"resolution\": interval,\n",
    "    \"date_format\": \"0\",\n",
    "    \"range_from\": start_date,\n",
    "    \"range_to\": to_date,\n",
    "    \"cont_flag\": \"1\"\n",
    "}\n",
    "\n",
    "response = fyers.history(data)\n",
    "print(response)"
   ]
  },
  {
   "cell_type": "code",
   "execution_count": null,
   "id": "ad3388fe",
   "metadata": {},
   "outputs": [],
   "source": []
  }
 ],
 "metadata": {
  "kernelspec": {
   "display_name": "Python 3 (ipykernel)",
   "language": "python",
   "name": "python3"
  },
  "language_info": {
   "codemirror_mode": {
    "name": "ipython",
    "version": 3
   },
   "file_extension": ".py",
   "mimetype": "text/x-python",
   "name": "python",
   "nbconvert_exporter": "python",
   "pygments_lexer": "ipython3",
   "version": "3.11.4"
  }
 },
 "nbformat": 4,
 "nbformat_minor": 5
}
